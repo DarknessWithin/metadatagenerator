{
 "cells": [
  {
   "cell_type": "code",
   "id": "54045e74",
   "metadata": {
    "ExecuteTime": {
     "end_time": "2025-06-25T03:10:35.813584Z",
     "start_time": "2025-06-25T03:10:35.808195Z"
    }
   },
   "source": [
    "print(\"Jai Mata Di\")"
   ],
   "outputs": [
    {
     "name": "stdout",
     "output_type": "stream",
     "text": [
      "Jai Mata Di\n"
     ]
    }
   ],
   "execution_count": 1
  },
  {
   "cell_type": "code",
   "id": "a92dfa13",
   "metadata": {
    "ExecuteTime": {
     "end_time": "2025-06-25T03:10:37.590982Z",
     "start_time": "2025-06-25T03:10:36.036569Z"
    }
   },
   "source": [
    "import os\n",
    "import json\n",
    "import sys\n",
    "from IPython.display import display, JSON\n",
    "\n",
    "# ✅ Fix for Jupyter Notebook (no __file__)\n",
    "sys.path.append(os.path.abspath(os.path.join(os.getcwd(), \"..\")))\n",
    "\n",
    "# ✅ Import your local backend modules\n",
    "from backend.extractor import extract_text\n",
    "from backend.ocr import extract_text_from_image\n",
    "from backend.metadata_gen import generate_metadata\n"
   ],
   "outputs": [],
   "execution_count": 2
  },
  {
   "cell_type": "code",
   "id": "c2bf8be3",
   "metadata": {
    "ExecuteTime": {
     "end_time": "2025-06-25T03:10:40.532091Z",
     "start_time": "2025-06-25T03:10:37.610084Z"
    }
   },
   "source": [
    "import os\n",
    "import requests\n",
    "from dotenv import load_dotenv\n",
    "\n",
    "load_dotenv()\n",
    "api_key = os.getenv(\"OPENROUTER_API_KEY\")\n",
    "\n",
    "print(\"🔐 API KEY present:\", api_key is not None and len(api_key) > 0)\n",
    "\n",
    "url = \"https://openrouter.ai/api/v1/chat/completions\"\n",
    "\n",
    "headers = {\n",
    "    \"Authorization\": f\"Bearer {api_key}\",\n",
    "    \"Content-Type\": \"application/json\"\n",
    "}\n",
    "\n",
    "payload = {\n",
    "    \"model\": \"meta-llama/llama-3-8b-instruct\",\n",
    "    \"messages\": [\n",
    "        {\"role\": \"system\", \"content\": \"You are a helpful assistant.\"},\n",
    "        {\"role\": \"user\", \"content\": \"Say hello!\"}\n",
    "    ],\n",
    "    \"temperature\": 0.7,\n",
    "    \"max_tokens\": 100\n",
    "}\n",
    "\n",
    "response = requests.post(url, headers=headers, json=payload)\n",
    "\n",
    "print(\"✅ Status Code:\", response.status_code)\n",
    "print(\"🧾 Response Text:\", response.text)\n"
   ],
   "outputs": [
    {
     "name": "stdout",
     "output_type": "stream",
     "text": [
      "🔐 API KEY present: True\n",
      "✅ Status Code: 200\n",
      "🧾 Response Text: \n",
      "         \n",
      "\n",
      "         \n",
      "\n",
      "         \n",
      "{\"id\":\"gen-1750821039-iaV3HUHvoHILQ4KOFKBQ\",\"provider\":\"DeepInfra\",\"model\":\"meta-llama/llama-3-8b-instruct\",\"object\":\"chat.completion\",\"created\":1750821039,\"choices\":[{\"logprobs\":null,\"finish_reason\":\"stop\",\"native_finish_reason\":\"stop\",\"index\":0,\"message\":{\"role\":\"assistant\",\"content\":\"Hello! It's nice to meet you! I'm here to help you with any questions or tasks you may have. What's on your mind today?\",\"refusal\":null,\"reasoning\":null}}],\"usage\":{\"prompt_tokens\":24,\"completion_tokens\":31,\"total_tokens\":55}}\n"
     ]
    }
   ],
   "execution_count": 3
  },
  {
   "cell_type": "code",
   "id": "e6553e19",
   "metadata": {
    "ExecuteTime": {
     "end_time": "2025-06-25T03:10:40.565339Z",
     "start_time": "2025-06-25T03:10:40.561674Z"
    }
   },
   "source": [
    "import pytesseract\n",
    "\n",
    "# Manually set path to tesseract executable\n",
    "pytesseract.pytesseract.tesseract_cmd = r\"C:\\Program Files\\Tesseract-OCR\\tesseract.exe\"\n",
    "\n"
   ],
   "outputs": [],
   "execution_count": 4
  },
  {
   "cell_type": "code",
   "id": "48ad80c3",
   "metadata": {
    "ExecuteTime": {
     "end_time": "2025-06-25T03:10:40.611319Z",
     "start_time": "2025-06-25T03:10:40.606437Z"
    }
   },
   "source": [
    "# 📁 Path to the document\n",
    "file_path = r\"C:\\Users\\Admin\\OneDrive\\Desktop\\23112104_Default Resume_2025-06-24_22_54_35.pdf\"\n",
    "\n",
    "\n",
    "# Auto-detect file type\n",
    "ext = os.path.splitext(file_path)[1].lower()\n",
    "is_image = ext in ['.png', '.jpg', '.jpeg']\n",
    "print(f\"📄 File Type Detected: {'Image' if is_image else 'Document'}\")\n"
   ],
   "outputs": [
    {
     "name": "stdout",
     "output_type": "stream",
     "text": [
      "📄 File Type Detected: Document\n"
     ]
    }
   ],
   "execution_count": 5
  },
  {
   "cell_type": "code",
   "id": "26cb0fed",
   "metadata": {
    "ExecuteTime": {
     "end_time": "2025-06-25T03:10:47.749726Z",
     "start_time": "2025-06-25T03:10:40.648591Z"
    }
   },
   "source": [
    "if is_image:\n",
    "    text = extract_text_from_image(file_path)\n",
    "else:\n",
    "    text = extract_text(file_path)\n",
    "\n",
    "# Preview first 1000 characters\n",
    "print(\"✅ Extracted Text Preview:\\n\")\n",
    "print(text[:1000])\n"
   ],
   "outputs": [
    {
     "name": "stdout",
     "output_type": "stream",
     "text": [
      "✅ Extracted Text Preview:\n",
      "\n",
      " Area of Interest\n",
      "Backend Development in python, java and kotlin, DSA, Dats Science and Artificial Intelligence\n",
      " Education\n",
      "Year \n",
      "Degree/Examination \n",
      "Institution/Board \n",
      "CGPA/\n",
      "Percentage \n",
      "2024\n",
      "B.Tech. 2nd Year\n",
      "Indian Institute of Technology, Roorkee\n",
      "8.307\n",
      "2023\n",
      "Intermediate (Class XII)\n",
      "MVN school, sector 17, Faridabad\n",
      "91.80 % \n",
      "2021\n",
      "Matriculate (Class X)\n",
      "MVN school, sector 17, Faridabad\n",
      "96.80 % \n",
      " Internships\n",
      "Summer Internship | Coforge ltd \n",
      "Food Corporation of India (FCI) Project | May 2025 Present\n",
      "Contributed to the development of a scalable integration layer using open-source middleware components as part of the\n",
      "FCI digital modernization project.\n",
      "Worked on designing and implementing backend systems to support interoperability between multiple services.\n",
      "Gained hands-on experience in middleware design, service orchestration, and enterprise software architecture.\n",
      "Collaborated regularly with senior architects and team members in an agile development environment.\n",
      " Projects\n",
      "Transformers robo c\n"
     ]
    }
   ],
   "execution_count": 6
  },
  {
   "metadata": {
    "ExecuteTime": {
     "end_time": "2025-06-25T03:10:47.771892Z",
     "start_time": "2025-06-25T03:10:47.766003Z"
    }
   },
   "cell_type": "code",
   "source": [
    "from dotenv import load_dotenv\n",
    "import os\n",
    "\n",
    "load_dotenv()  # Load the .env file\n",
    "print(\"API KEY:\", os.getenv(\"OPENROUTER_API_KEY\"))\n"
   ],
   "id": "4687533355973519",
   "outputs": [
    {
     "name": "stdout",
     "output_type": "stream",
     "text": [
      "API KEY: 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\n"
     ]
    }
   ],
   "execution_count": 7
  },
  {
   "cell_type": "code",
   "id": "8584362a",
   "metadata": {
    "ExecuteTime": {
     "end_time": "2025-06-25T03:10:57.762117Z",
     "start_time": "2025-06-25T03:10:47.802828Z"
    }
   },
   "source": [
    "metadata_raw = generate_metadata(text)\n",
    "print(metadata_raw)\n",
    "\n"
   ],
   "outputs": [
    {
     "name": "stdout",
     "output_type": "stream",
     "text": [
      "{\n",
      "  \"title\": \"Tanishq Sharma's Resume\",\n",
      "  \"keywords\": [\n",
      "    \"Backend Development\",\n",
      "    \"Python\",\n",
      "    \"Java\",\n",
      "    \"Kotlin\",\n",
      "    \"DSA\",\n",
      "    \"Artificial Intelligence\",\n",
      "    \"Machine Learning\",\n",
      "    \"Data Science\",\n",
      "    \"Cloud Computing\",\n",
      "    \"Full Stack Development\"\n",
      "  ],\n",
      "  \"short_summary\": [\n",
      "    \"Tanishq Sharma is a B.Tech. student at IIT Roorkee with a strong background in backend development, data science, and artificial intelligence.\",\n",
      "    \"He has experience in working with various technologies such as Python, Java, Kotlin, and has a strong passion for machine learning and data science.\",\n",
      "    \"Tanishq has worked on various projects, including a search engine for blogs and articles, a data compression and decompression portal, and an automated metadata generation system.\"\n",
      "  ],\n",
      "  \"document_category\": \"Resume\",\n",
      "  \"language\": \"English\",\n",
      "  \"sentiment\": \"Positive\",\n",
      "  \"named_entities\": {\n",
      "    \"people\": [\n",
      "      \"Tanishq Sharma\"\n",
      "    ],\n",
      "    \"organizations\": [\n",
      "      \"Indian Institute of Technology Roorkee\",\n",
      "      \"Coforge Ltd\",\n",
      "      \"Food Corporation of India\",\n",
      "      \"ICICI Bank\",\n",
      "      \"Google Cloud\",\n",
      "      \"Odoo\"\n",
      "    ],\n",
      "    \"locations\": [\n",
      "      \"Roorkee\",\n",
      "      \"Faridabad\"\n",
      "    ]\n",
      "  },\n",
      "  \"is_confidential\": \"No\",\n",
      "  \"important_dates\": [\n",
      "    \"2024\",\n",
      "    \"2023\",\n",
      "    \"2021\",\n",
      "    \"May 2025\",\n",
      "    \"June 2025\"\n",
      "  ],\n",
      "  \"sections_present\": [\n",
      "    \"Area of Interest\",\n",
      "    \"Education\",\n",
      "    \"Internships\",\n",
      "    \"Projects\",\n",
      "    \"Skills\",\n",
      "    \"Positions of Responsibility & Extra Curriculars\",\n",
      "    \"Awards / Scholarships / Academic Achievements\"\n",
      "  ],\n",
      "  \"author\": \"Tanishq Sharma\",\n",
      "  \"intended_audience\": \"Employers, Recruiters\",\n",
      "  \"estimated_reading_time\": \"10-15 minutes\",\n",
      "  \"tables_charts_images_present\": \"Yes\",\n",
      "  \"topic_tags\": [\n",
      "    \"Backend Development\",\n",
      "    \"Data Science\",\n",
      "    \"Artificial Intelligence\",\n",
      "    \"Machine Learning\",\n",
      "    \"Cloud Computing\",\n",
      "    \"Full Stack Development\"\n",
      "  ],\n",
      "  \"summary_bullet_points\": [\n",
      "    \"Strong background in backend development, data science, and artificial intelligence\",\n",
      "    \"Experience in working with various technologies such as Python, Java, Kotlin\",\n",
      "    \"Strong passion for machine learning and data science\",\n",
      "    \"Worked on various projects, including a search engine for blogs and articles, a data compression and decompression portal, and an automated metadata generation system\"\n",
      "  ]\n",
      "}\n"
     ]
    }
   ],
   "execution_count": 8
  },
  {
   "cell_type": "code",
   "id": "978e7199",
   "metadata": {
    "ExecuteTime": {
     "end_time": "2025-06-25T03:13:16.278761Z",
     "start_time": "2025-06-25T03:13:16.269509Z"
    }
   },
   "source": [
    "import json\n",
    "from IPython.display import JSON, display\n",
    "\n",
    "try:\n",
    "    metadata_json = json.loads(metadata_raw)\n",
    "    display(JSON(metadata_json))\n",
    "except json.JSONDecodeError as e:\n",
    "    print(\"❌ JSON Decode Error:\", e)\n",
    "    print(\"📄 Raw Response:\\n\", metadata_raw[:1000])  # Preview to debug\n"
   ],
   "outputs": [
    {
     "data": {
      "text/plain": [
       "<IPython.core.display.JSON object>"
      ],
      "application/json": {
       "title": "Tanishq Sharma's Resume",
       "keywords": [
        "Backend Development",
        "Python",
        "Java",
        "Kotlin",
        "DSA",
        "Artificial Intelligence",
        "Machine Learning",
        "Data Science",
        "Cloud Computing",
        "Full Stack Development"
       ],
       "short_summary": [
        "Tanishq Sharma is a B.Tech. student at IIT Roorkee with a strong background in backend development, data science, and artificial intelligence.",
        "He has experience in working with various technologies such as Python, Java, Kotlin, and has a strong passion for machine learning and data science.",
        "Tanishq has worked on various projects, including a search engine for blogs and articles, a data compression and decompression portal, and an automated metadata generation system."
       ],
       "document_category": "Resume",
       "language": "English",
       "sentiment": "Positive",
       "named_entities": {
        "people": [
         "Tanishq Sharma"
        ],
        "organizations": [
         "Indian Institute of Technology Roorkee",
         "Coforge Ltd",
         "Food Corporation of India",
         "ICICI Bank",
         "Google Cloud",
         "Odoo"
        ],
        "locations": [
         "Roorkee",
         "Faridabad"
        ]
       },
       "is_confidential": "No",
       "important_dates": [
        "2024",
        "2023",
        "2021",
        "May 2025",
        "June 2025"
       ],
       "sections_present": [
        "Area of Interest",
        "Education",
        "Internships",
        "Projects",
        "Skills",
        "Positions of Responsibility & Extra Curriculars",
        "Awards / Scholarships / Academic Achievements"
       ],
       "author": "Tanishq Sharma",
       "intended_audience": "Employers, Recruiters",
       "estimated_reading_time": "10-15 minutes",
       "tables_charts_images_present": "Yes",
       "topic_tags": [
        "Backend Development",
        "Data Science",
        "Artificial Intelligence",
        "Machine Learning",
        "Cloud Computing",
        "Full Stack Development"
       ],
       "summary_bullet_points": [
        "Strong background in backend development, data science, and artificial intelligence",
        "Experience in working with various technologies such as Python, Java, Kotlin",
        "Strong passion for machine learning and data science",
        "Worked on various projects, including a search engine for blogs and articles, a data compression and decompression portal, and an automated metadata generation system"
       ]
      }
     },
     "metadata": {
      "application/json": {
       "expanded": false,
       "root": "root"
      }
     },
     "output_type": "display_data"
    }
   ],
   "execution_count": 11
  },
  {
   "cell_type": "code",
   "id": "14e2b8ff",
   "metadata": {
    "ExecuteTime": {
     "end_time": "2025-06-25T03:15:15.367822Z",
     "start_time": "2025-06-25T03:15:15.172241Z"
    }
   },
   "source": [
    "import pandas as pd\n",
    "import json\n",
    "\n",
    "# Pretty-format nested values\n",
    "flat_metadata = {\n",
    "    k: json.dumps(v, indent=2, ensure_ascii=False) if isinstance(v, (dict, list)) else str(v)\n",
    "    for k, v in metadata_json.items()\n",
    "}\n",
    "\n",
    "df = pd.DataFrame(flat_metadata.items(), columns=[\"📄 Metadata Field\", \"🔎 Value\"])\n",
    "df.style.set_properties(**{\n",
    "    'white-space': 'pre-wrap',\n",
    "    'text-align': 'left'\n",
    "}).set_table_styles([\n",
    "    {\"selector\": \"th\", \"props\": [(\"text-align\", \"left\"), (\"font-weight\", \"bold\")]},\n",
    "    {\"selector\": \"td\", \"props\": [(\"text-align\", \"left\")]}\n",
    "])\n"
   ],
   "outputs": [
    {
     "data": {
      "text/plain": [
       "<pandas.io.formats.style.Styler at 0x2084908f230>"
      ],
      "text/html": [
       "<style type=\"text/css\">\n",
       "#T_c7074 th {\n",
       "  text-align: left;\n",
       "  font-weight: bold;\n",
       "}\n",
       "#T_c7074 td {\n",
       "  text-align: left;\n",
       "}\n",
       "#T_c7074_row0_col0, #T_c7074_row0_col1, #T_c7074_row1_col0, #T_c7074_row1_col1, #T_c7074_row2_col0, #T_c7074_row2_col1, #T_c7074_row3_col0, #T_c7074_row3_col1, #T_c7074_row4_col0, #T_c7074_row4_col1, #T_c7074_row5_col0, #T_c7074_row5_col1, #T_c7074_row6_col0, #T_c7074_row6_col1, #T_c7074_row7_col0, #T_c7074_row7_col1, #T_c7074_row8_col0, #T_c7074_row8_col1, #T_c7074_row9_col0, #T_c7074_row9_col1, #T_c7074_row10_col0, #T_c7074_row10_col1, #T_c7074_row11_col0, #T_c7074_row11_col1, #T_c7074_row12_col0, #T_c7074_row12_col1, #T_c7074_row13_col0, #T_c7074_row13_col1, #T_c7074_row14_col0, #T_c7074_row14_col1, #T_c7074_row15_col0, #T_c7074_row15_col1 {\n",
       "  white-space: pre-wrap;\n",
       "  text-align: left;\n",
       "}\n",
       "</style>\n",
       "<table id=\"T_c7074\">\n",
       "  <thead>\n",
       "    <tr>\n",
       "      <th class=\"blank level0\" >&nbsp;</th>\n",
       "      <th id=\"T_c7074_level0_col0\" class=\"col_heading level0 col0\" >📄 Metadata Field</th>\n",
       "      <th id=\"T_c7074_level0_col1\" class=\"col_heading level0 col1\" >🔎 Value</th>\n",
       "    </tr>\n",
       "  </thead>\n",
       "  <tbody>\n",
       "    <tr>\n",
       "      <th id=\"T_c7074_level0_row0\" class=\"row_heading level0 row0\" >0</th>\n",
       "      <td id=\"T_c7074_row0_col0\" class=\"data row0 col0\" >title</td>\n",
       "      <td id=\"T_c7074_row0_col1\" class=\"data row0 col1\" >Tanishq Sharma's Resume</td>\n",
       "    </tr>\n",
       "    <tr>\n",
       "      <th id=\"T_c7074_level0_row1\" class=\"row_heading level0 row1\" >1</th>\n",
       "      <td id=\"T_c7074_row1_col0\" class=\"data row1 col0\" >keywords</td>\n",
       "      <td id=\"T_c7074_row1_col1\" class=\"data row1 col1\" >[\n",
       "  \"Backend Development\",\n",
       "  \"Python\",\n",
       "  \"Java\",\n",
       "  \"Kotlin\",\n",
       "  \"DSA\",\n",
       "  \"Artificial Intelligence\",\n",
       "  \"Machine Learning\",\n",
       "  \"Data Science\",\n",
       "  \"Cloud Computing\",\n",
       "  \"Full Stack Development\"\n",
       "]</td>\n",
       "    </tr>\n",
       "    <tr>\n",
       "      <th id=\"T_c7074_level0_row2\" class=\"row_heading level0 row2\" >2</th>\n",
       "      <td id=\"T_c7074_row2_col0\" class=\"data row2 col0\" >short_summary</td>\n",
       "      <td id=\"T_c7074_row2_col1\" class=\"data row2 col1\" >[\n",
       "  \"Tanishq Sharma is a B.Tech. student at IIT Roorkee with a strong background in backend development, data science, and artificial intelligence.\",\n",
       "  \"He has experience in working with various technologies such as Python, Java, Kotlin, and has a strong passion for machine learning and data science.\",\n",
       "  \"Tanishq has worked on various projects, including a search engine for blogs and articles, a data compression and decompression portal, and an automated metadata generation system.\"\n",
       "]</td>\n",
       "    </tr>\n",
       "    <tr>\n",
       "      <th id=\"T_c7074_level0_row3\" class=\"row_heading level0 row3\" >3</th>\n",
       "      <td id=\"T_c7074_row3_col0\" class=\"data row3 col0\" >document_category</td>\n",
       "      <td id=\"T_c7074_row3_col1\" class=\"data row3 col1\" >Resume</td>\n",
       "    </tr>\n",
       "    <tr>\n",
       "      <th id=\"T_c7074_level0_row4\" class=\"row_heading level0 row4\" >4</th>\n",
       "      <td id=\"T_c7074_row4_col0\" class=\"data row4 col0\" >language</td>\n",
       "      <td id=\"T_c7074_row4_col1\" class=\"data row4 col1\" >English</td>\n",
       "    </tr>\n",
       "    <tr>\n",
       "      <th id=\"T_c7074_level0_row5\" class=\"row_heading level0 row5\" >5</th>\n",
       "      <td id=\"T_c7074_row5_col0\" class=\"data row5 col0\" >sentiment</td>\n",
       "      <td id=\"T_c7074_row5_col1\" class=\"data row5 col1\" >Positive</td>\n",
       "    </tr>\n",
       "    <tr>\n",
       "      <th id=\"T_c7074_level0_row6\" class=\"row_heading level0 row6\" >6</th>\n",
       "      <td id=\"T_c7074_row6_col0\" class=\"data row6 col0\" >named_entities</td>\n",
       "      <td id=\"T_c7074_row6_col1\" class=\"data row6 col1\" >{\n",
       "  \"people\": [\n",
       "    \"Tanishq Sharma\"\n",
       "  ],\n",
       "  \"organizations\": [\n",
       "    \"Indian Institute of Technology Roorkee\",\n",
       "    \"Coforge Ltd\",\n",
       "    \"Food Corporation of India\",\n",
       "    \"ICICI Bank\",\n",
       "    \"Google Cloud\",\n",
       "    \"Odoo\"\n",
       "  ],\n",
       "  \"locations\": [\n",
       "    \"Roorkee\",\n",
       "    \"Faridabad\"\n",
       "  ]\n",
       "}</td>\n",
       "    </tr>\n",
       "    <tr>\n",
       "      <th id=\"T_c7074_level0_row7\" class=\"row_heading level0 row7\" >7</th>\n",
       "      <td id=\"T_c7074_row7_col0\" class=\"data row7 col0\" >is_confidential</td>\n",
       "      <td id=\"T_c7074_row7_col1\" class=\"data row7 col1\" >No</td>\n",
       "    </tr>\n",
       "    <tr>\n",
       "      <th id=\"T_c7074_level0_row8\" class=\"row_heading level0 row8\" >8</th>\n",
       "      <td id=\"T_c7074_row8_col0\" class=\"data row8 col0\" >important_dates</td>\n",
       "      <td id=\"T_c7074_row8_col1\" class=\"data row8 col1\" >[\n",
       "  \"2024\",\n",
       "  \"2023\",\n",
       "  \"2021\",\n",
       "  \"May 2025\",\n",
       "  \"June 2025\"\n",
       "]</td>\n",
       "    </tr>\n",
       "    <tr>\n",
       "      <th id=\"T_c7074_level0_row9\" class=\"row_heading level0 row9\" >9</th>\n",
       "      <td id=\"T_c7074_row9_col0\" class=\"data row9 col0\" >sections_present</td>\n",
       "      <td id=\"T_c7074_row9_col1\" class=\"data row9 col1\" >[\n",
       "  \"Area of Interest\",\n",
       "  \"Education\",\n",
       "  \"Internships\",\n",
       "  \"Projects\",\n",
       "  \"Skills\",\n",
       "  \"Positions of Responsibility & Extra Curriculars\",\n",
       "  \"Awards / Scholarships / Academic Achievements\"\n",
       "]</td>\n",
       "    </tr>\n",
       "    <tr>\n",
       "      <th id=\"T_c7074_level0_row10\" class=\"row_heading level0 row10\" >10</th>\n",
       "      <td id=\"T_c7074_row10_col0\" class=\"data row10 col0\" >author</td>\n",
       "      <td id=\"T_c7074_row10_col1\" class=\"data row10 col1\" >Tanishq Sharma</td>\n",
       "    </tr>\n",
       "    <tr>\n",
       "      <th id=\"T_c7074_level0_row11\" class=\"row_heading level0 row11\" >11</th>\n",
       "      <td id=\"T_c7074_row11_col0\" class=\"data row11 col0\" >intended_audience</td>\n",
       "      <td id=\"T_c7074_row11_col1\" class=\"data row11 col1\" >Employers, Recruiters</td>\n",
       "    </tr>\n",
       "    <tr>\n",
       "      <th id=\"T_c7074_level0_row12\" class=\"row_heading level0 row12\" >12</th>\n",
       "      <td id=\"T_c7074_row12_col0\" class=\"data row12 col0\" >estimated_reading_time</td>\n",
       "      <td id=\"T_c7074_row12_col1\" class=\"data row12 col1\" >10-15 minutes</td>\n",
       "    </tr>\n",
       "    <tr>\n",
       "      <th id=\"T_c7074_level0_row13\" class=\"row_heading level0 row13\" >13</th>\n",
       "      <td id=\"T_c7074_row13_col0\" class=\"data row13 col0\" >tables_charts_images_present</td>\n",
       "      <td id=\"T_c7074_row13_col1\" class=\"data row13 col1\" >Yes</td>\n",
       "    </tr>\n",
       "    <tr>\n",
       "      <th id=\"T_c7074_level0_row14\" class=\"row_heading level0 row14\" >14</th>\n",
       "      <td id=\"T_c7074_row14_col0\" class=\"data row14 col0\" >topic_tags</td>\n",
       "      <td id=\"T_c7074_row14_col1\" class=\"data row14 col1\" >[\n",
       "  \"Backend Development\",\n",
       "  \"Data Science\",\n",
       "  \"Artificial Intelligence\",\n",
       "  \"Machine Learning\",\n",
       "  \"Cloud Computing\",\n",
       "  \"Full Stack Development\"\n",
       "]</td>\n",
       "    </tr>\n",
       "    <tr>\n",
       "      <th id=\"T_c7074_level0_row15\" class=\"row_heading level0 row15\" >15</th>\n",
       "      <td id=\"T_c7074_row15_col0\" class=\"data row15 col0\" >summary_bullet_points</td>\n",
       "      <td id=\"T_c7074_row15_col1\" class=\"data row15 col1\" >[\n",
       "  \"Strong background in backend development, data science, and artificial intelligence\",\n",
       "  \"Experience in working with various technologies such as Python, Java, Kotlin\",\n",
       "  \"Strong passion for machine learning and data science\",\n",
       "  \"Worked on various projects, including a search engine for blogs and articles, a data compression and decompression portal, and an automated metadata generation system\"\n",
       "]</td>\n",
       "    </tr>\n",
       "  </tbody>\n",
       "</table>\n"
      ]
     },
     "execution_count": 13,
     "metadata": {},
     "output_type": "execute_result"
    }
   ],
   "execution_count": 13
  },
  {
   "metadata": {
    "ExecuteTime": {
     "end_time": "2025-06-25T03:16:16.540801Z",
     "start_time": "2025-06-25T03:16:16.533982Z"
    }
   },
   "cell_type": "code",
   "source": [
    "from IPython.display import display, HTML\n",
    "\n",
    "def display_metadata_html(metadata):\n",
    "    html = \"<table style='width:100%; border-collapse: collapse;'>\"\n",
    "    for key, value in metadata.items():\n",
    "        html += f\"<tr><td style='padding:8px; border:1px solid #ddd; font-weight:bold;'>{key}</td>\"\n",
    "        html += f\"<td style='padding:8px; border:1px solid #ddd;'>{value}</td></tr>\"\n",
    "    html += \"</table>\"\n",
    "    display(HTML(html))\n",
    "\n",
    "display_metadata_html(metadata_json)\n"
   ],
   "id": "96bba8ff",
   "outputs": [
    {
     "data": {
      "text/plain": [
       "<IPython.core.display.HTML object>"
      ],
      "text/html": [
       "<table style='width:100%; border-collapse: collapse;'><tr><td style='padding:8px; border:1px solid #ddd; font-weight:bold;'>title</td><td style='padding:8px; border:1px solid #ddd;'>Tanishq Sharma's Resume</td></tr><tr><td style='padding:8px; border:1px solid #ddd; font-weight:bold;'>keywords</td><td style='padding:8px; border:1px solid #ddd;'>['Backend Development', 'Python', 'Java', 'Kotlin', 'DSA', 'Artificial Intelligence', 'Machine Learning', 'Data Science', 'Cloud Computing', 'Full Stack Development']</td></tr><tr><td style='padding:8px; border:1px solid #ddd; font-weight:bold;'>short_summary</td><td style='padding:8px; border:1px solid #ddd;'>['Tanishq Sharma is a B.Tech. student at IIT Roorkee with a strong background in backend development, data science, and artificial intelligence.', 'He has experience in working with various technologies such as Python, Java, Kotlin, and has a strong passion for machine learning and data science.', 'Tanishq has worked on various projects, including a search engine for blogs and articles, a data compression and decompression portal, and an automated metadata generation system.']</td></tr><tr><td style='padding:8px; border:1px solid #ddd; font-weight:bold;'>document_category</td><td style='padding:8px; border:1px solid #ddd;'>Resume</td></tr><tr><td style='padding:8px; border:1px solid #ddd; font-weight:bold;'>language</td><td style='padding:8px; border:1px solid #ddd;'>English</td></tr><tr><td style='padding:8px; border:1px solid #ddd; font-weight:bold;'>sentiment</td><td style='padding:8px; border:1px solid #ddd;'>Positive</td></tr><tr><td style='padding:8px; border:1px solid #ddd; font-weight:bold;'>named_entities</td><td style='padding:8px; border:1px solid #ddd;'>{'people': ['Tanishq Sharma'], 'organizations': ['Indian Institute of Technology Roorkee', 'Coforge Ltd', 'Food Corporation of India', 'ICICI Bank', 'Google Cloud', 'Odoo'], 'locations': ['Roorkee', 'Faridabad']}</td></tr><tr><td style='padding:8px; border:1px solid #ddd; font-weight:bold;'>is_confidential</td><td style='padding:8px; border:1px solid #ddd;'>No</td></tr><tr><td style='padding:8px; border:1px solid #ddd; font-weight:bold;'>important_dates</td><td style='padding:8px; border:1px solid #ddd;'>['2024', '2023', '2021', 'May 2025', 'June 2025']</td></tr><tr><td style='padding:8px; border:1px solid #ddd; font-weight:bold;'>sections_present</td><td style='padding:8px; border:1px solid #ddd;'>['Area of Interest', 'Education', 'Internships', 'Projects', 'Skills', 'Positions of Responsibility & Extra Curriculars', 'Awards / Scholarships / Academic Achievements']</td></tr><tr><td style='padding:8px; border:1px solid #ddd; font-weight:bold;'>author</td><td style='padding:8px; border:1px solid #ddd;'>Tanishq Sharma</td></tr><tr><td style='padding:8px; border:1px solid #ddd; font-weight:bold;'>intended_audience</td><td style='padding:8px; border:1px solid #ddd;'>Employers, Recruiters</td></tr><tr><td style='padding:8px; border:1px solid #ddd; font-weight:bold;'>estimated_reading_time</td><td style='padding:8px; border:1px solid #ddd;'>10-15 minutes</td></tr><tr><td style='padding:8px; border:1px solid #ddd; font-weight:bold;'>tables_charts_images_present</td><td style='padding:8px; border:1px solid #ddd;'>Yes</td></tr><tr><td style='padding:8px; border:1px solid #ddd; font-weight:bold;'>topic_tags</td><td style='padding:8px; border:1px solid #ddd;'>['Backend Development', 'Data Science', 'Artificial Intelligence', 'Machine Learning', 'Cloud Computing', 'Full Stack Development']</td></tr><tr><td style='padding:8px; border:1px solid #ddd; font-weight:bold;'>summary_bullet_points</td><td style='padding:8px; border:1px solid #ddd;'>['Strong background in backend development, data science, and artificial intelligence', 'Experience in working with various technologies such as Python, Java, Kotlin', 'Strong passion for machine learning and data science', 'Worked on various projects, including a search engine for blogs and articles, a data compression and decompression portal, and an automated metadata generation system']</td></tr></table>"
      ]
     },
     "metadata": {},
     "output_type": "display_data"
    }
   ],
   "execution_count": 14
  },
  {
   "cell_type": "code",
   "id": "a818f9b9",
   "metadata": {
    "ExecuteTime": {
     "end_time": "2025-06-25T03:16:30.445327Z",
     "start_time": "2025-06-25T03:16:30.439197Z"
    }
   },
   "source": [
    "from IPython.display import display, HTML\n",
    "\n",
    "def collapsible_metadata_view(metadata):\n",
    "    html = \"<details><summary><b>Click to expand metadata</b></summary><pre style='font-family:monospace;'>\"\n",
    "    for key, value in metadata.items():\n",
    "        html += f\"{key}: {value}\\n\"\n",
    "    html += \"</pre></details>\"\n",
    "    display(HTML(html))\n",
    "\n",
    "collapsible_metadata_view(metadata_json)\n"
   ],
   "outputs": [
    {
     "data": {
      "text/plain": [
       "<IPython.core.display.HTML object>"
      ],
      "text/html": [
       "<details><summary><b>Click to expand metadata</b></summary><pre style='font-family:monospace;'>title: Tanishq Sharma's Resume\n",
       "keywords: ['Backend Development', 'Python', 'Java', 'Kotlin', 'DSA', 'Artificial Intelligence', 'Machine Learning', 'Data Science', 'Cloud Computing', 'Full Stack Development']\n",
       "short_summary: ['Tanishq Sharma is a B.Tech. student at IIT Roorkee with a strong background in backend development, data science, and artificial intelligence.', 'He has experience in working with various technologies such as Python, Java, Kotlin, and has a strong passion for machine learning and data science.', 'Tanishq has worked on various projects, including a search engine for blogs and articles, a data compression and decompression portal, and an automated metadata generation system.']\n",
       "document_category: Resume\n",
       "language: English\n",
       "sentiment: Positive\n",
       "named_entities: {'people': ['Tanishq Sharma'], 'organizations': ['Indian Institute of Technology Roorkee', 'Coforge Ltd', 'Food Corporation of India', 'ICICI Bank', 'Google Cloud', 'Odoo'], 'locations': ['Roorkee', 'Faridabad']}\n",
       "is_confidential: No\n",
       "important_dates: ['2024', '2023', '2021', 'May 2025', 'June 2025']\n",
       "sections_present: ['Area of Interest', 'Education', 'Internships', 'Projects', 'Skills', 'Positions of Responsibility & Extra Curriculars', 'Awards / Scholarships / Academic Achievements']\n",
       "author: Tanishq Sharma\n",
       "intended_audience: Employers, Recruiters\n",
       "estimated_reading_time: 10-15 minutes\n",
       "tables_charts_images_present: Yes\n",
       "topic_tags: ['Backend Development', 'Data Science', 'Artificial Intelligence', 'Machine Learning', 'Cloud Computing', 'Full Stack Development']\n",
       "summary_bullet_points: ['Strong background in backend development, data science, and artificial intelligence', 'Experience in working with various technologies such as Python, Java, Kotlin', 'Strong passion for machine learning and data science', 'Worked on various projects, including a search engine for blogs and articles, a data compression and decompression portal, and an automated metadata generation system']\n",
       "</pre></details>"
      ]
     },
     "metadata": {},
     "output_type": "display_data"
    }
   ],
   "execution_count": 15
  },
  {
   "cell_type": "code",
   "id": "d25f7680",
   "metadata": {
    "ExecuteTime": {
     "end_time": "2025-06-25T03:17:28.106097Z",
     "start_time": "2025-06-25T03:17:28.099185Z"
    }
   },
   "source": [
    "import json\n",
    "\n",
    "output_path = \"output_metadata.json\"\n",
    "\n",
    "with open(output_path, \"w\", encoding=\"utf-8\") as f:\n",
    "    json.dump(metadata_json, f, indent=4, ensure_ascii=False)\n",
    "\n",
    "print(f\"✅ Metadata saved to {output_path}\")\n"
   ],
   "outputs": [
    {
     "name": "stdout",
     "output_type": "stream",
     "text": [
      "✅ Metadata saved to output_metadata.json\n"
     ]
    }
   ],
   "execution_count": 17
  },
  {
   "cell_type": "code",
   "id": "10f1f030",
   "metadata": {
    "ExecuteTime": {
     "end_time": "2025-06-25T03:18:04.975156Z",
     "start_time": "2025-06-25T03:18:04.969200Z"
    }
   },
   "source": [
    "def to_markdown(metadata):\n",
    "    lines = []\n",
    "    for key, value in metadata.items():\n",
    "        lines.append(f\"- **{key}**:\")\n",
    "        if isinstance(value, dict):\n",
    "            for sub_k, sub_v in value.items():\n",
    "                lines.append(f\"  - *{sub_k}*: {sub_v}\")\n",
    "        elif isinstance(value, list):\n",
    "            for item in value:\n",
    "                lines.append(f\"  - {item}\")\n",
    "        else:\n",
    "            lines[-1] += f\" {value}\"\n",
    "    return \"\\n\".join(lines)\n",
    "\n",
    "print(to_markdown(metadata_json))\n"
   ],
   "outputs": [
    {
     "name": "stdout",
     "output_type": "stream",
     "text": [
      "- **title**: Tanishq Sharma's Resume\n",
      "- **keywords**:\n",
      "  - Backend Development\n",
      "  - Python\n",
      "  - Java\n",
      "  - Kotlin\n",
      "  - DSA\n",
      "  - Artificial Intelligence\n",
      "  - Machine Learning\n",
      "  - Data Science\n",
      "  - Cloud Computing\n",
      "  - Full Stack Development\n",
      "- **short_summary**:\n",
      "  - Tanishq Sharma is a B.Tech. student at IIT Roorkee with a strong background in backend development, data science, and artificial intelligence.\n",
      "  - He has experience in working with various technologies such as Python, Java, Kotlin, and has a strong passion for machine learning and data science.\n",
      "  - Tanishq has worked on various projects, including a search engine for blogs and articles, a data compression and decompression portal, and an automated metadata generation system.\n",
      "- **document_category**: Resume\n",
      "- **language**: English\n",
      "- **sentiment**: Positive\n",
      "- **named_entities**:\n",
      "  - *people*: ['Tanishq Sharma']\n",
      "  - *organizations*: ['Indian Institute of Technology Roorkee', 'Coforge Ltd', 'Food Corporation of India', 'ICICI Bank', 'Google Cloud', 'Odoo']\n",
      "  - *locations*: ['Roorkee', 'Faridabad']\n",
      "- **is_confidential**: No\n",
      "- **important_dates**:\n",
      "  - 2024\n",
      "  - 2023\n",
      "  - 2021\n",
      "  - May 2025\n",
      "  - June 2025\n",
      "- **sections_present**:\n",
      "  - Area of Interest\n",
      "  - Education\n",
      "  - Internships\n",
      "  - Projects\n",
      "  - Skills\n",
      "  - Positions of Responsibility & Extra Curriculars\n",
      "  - Awards / Scholarships / Academic Achievements\n",
      "- **author**: Tanishq Sharma\n",
      "- **intended_audience**: Employers, Recruiters\n",
      "- **estimated_reading_time**: 10-15 minutes\n",
      "- **tables_charts_images_present**: Yes\n",
      "- **topic_tags**:\n",
      "  - Backend Development\n",
      "  - Data Science\n",
      "  - Artificial Intelligence\n",
      "  - Machine Learning\n",
      "  - Cloud Computing\n",
      "  - Full Stack Development\n",
      "- **summary_bullet_points**:\n",
      "  - Strong background in backend development, data science, and artificial intelligence\n",
      "  - Experience in working with various technologies such as Python, Java, Kotlin\n",
      "  - Strong passion for machine learning and data science\n",
      "  - Worked on various projects, including a search engine for blogs and articles, a data compression and decompression portal, and an automated metadata generation system\n"
     ]
    }
   ],
   "execution_count": 19
  },
  {
   "cell_type": "code",
   "execution_count": null,
   "id": "1544a881",
   "metadata": {},
   "outputs": [],
   "source": []
  }
 ],
 "metadata": {
  "kernelspec": {
   "display_name": "Python 3 (ipykernel)",
   "language": "python",
   "name": "python3"
  },
  "language_info": {
   "codemirror_mode": {
    "name": "ipython",
    "version": 3
   },
   "file_extension": ".py",
   "mimetype": "text/x-python",
   "name": "python",
   "nbconvert_exporter": "python",
   "pygments_lexer": "ipython3",
   "version": "3.11.4"
  }
 },
 "nbformat": 4,
 "nbformat_minor": 5
}
